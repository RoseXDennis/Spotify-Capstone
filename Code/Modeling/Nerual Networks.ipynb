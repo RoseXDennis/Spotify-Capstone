{
 "cells": [
  {
   "cell_type": "code",
   "execution_count": 20,
   "metadata": {},
   "outputs": [],
   "source": [
    "import numpy as np\n",
    "import pandas as pd\n",
    "from sklearn.preprocessing import StandardScaler\n",
    "from sklearn.model_selection import train_test_split, GridSearchCV\n",
    "import matplotlib.pyplot as plt\n",
    "from sklearn import metrics\n",
    "import statsmodels.api as sm\n",
    "\n",
    "\n",
    "from tensorflow.keras.models import Sequential\n",
    "from tensorflow.keras.layers import Dense, Dropout\n",
    "from tensorflow.keras.wrappers.scikit_learn import KerasRegressor\n",
    "from tensorflow.keras import backend\n",
    "from tensorflow.keras.metrics import RootMeanSquaredError\n",
    "from keras import regularizers\n",
    "from keras.callbacks import EarlyStopping\n",
    "\n",
    "\n",
    "from scipy import stats\n",
    "\n",
    "%matplotlib inline"
   ]
  },
  {
   "cell_type": "code",
   "execution_count": 2,
   "metadata": {
    "scrolled": true
   },
   "outputs": [
    {
     "data": {
      "text/html": [
       "<div>\n",
       "<style scoped>\n",
       "    .dataframe tbody tr th:only-of-type {\n",
       "        vertical-align: middle;\n",
       "    }\n",
       "\n",
       "    .dataframe tbody tr th {\n",
       "        vertical-align: top;\n",
       "    }\n",
       "\n",
       "    .dataframe thead th {\n",
       "        text-align: right;\n",
       "    }\n",
       "</style>\n",
       "<table border=\"1\" class=\"dataframe\">\n",
       "  <thead>\n",
       "    <tr style=\"text-align: right;\">\n",
       "      <th></th>\n",
       "      <th>track_ids</th>\n",
       "      <th>track_pop</th>\n",
       "      <th>track_name</th>\n",
       "      <th>artist</th>\n",
       "      <th>artist_ids</th>\n",
       "      <th>featured_artist</th>\n",
       "      <th>danceability</th>\n",
       "      <th>energy</th>\n",
       "      <th>key</th>\n",
       "      <th>loudness</th>\n",
       "      <th>...</th>\n",
       "      <th>acousticness</th>\n",
       "      <th>instrumentalness</th>\n",
       "      <th>liveness</th>\n",
       "      <th>valence</th>\n",
       "      <th>tempo</th>\n",
       "      <th>duration_ms</th>\n",
       "      <th>time_signature</th>\n",
       "      <th>artist_pop</th>\n",
       "      <th>genre</th>\n",
       "      <th>category</th>\n",
       "    </tr>\n",
       "  </thead>\n",
       "  <tbody>\n",
       "    <tr>\n",
       "      <th>0</th>\n",
       "      <td>3GJ4hzg4lrGwU51Y3VARbF</td>\n",
       "      <td>78</td>\n",
       "      <td>Speechless</td>\n",
       "      <td>Dan + Shay</td>\n",
       "      <td>7z5WFjZAIYejWy0NI5lv4T</td>\n",
       "      <td>0</td>\n",
       "      <td>0.616</td>\n",
       "      <td>0.438</td>\n",
       "      <td>1</td>\n",
       "      <td>-5.968</td>\n",
       "      <td>...</td>\n",
       "      <td>0.356</td>\n",
       "      <td>0.000000</td>\n",
       "      <td>0.2400</td>\n",
       "      <td>0.386</td>\n",
       "      <td>135.929</td>\n",
       "      <td>213387</td>\n",
       "      <td>4</td>\n",
       "      <td>85</td>\n",
       "      <td>contemporary country</td>\n",
       "      <td>country</td>\n",
       "    </tr>\n",
       "    <tr>\n",
       "      <th>1</th>\n",
       "      <td>2rxQMGVafnNaRaXlRMWPde</td>\n",
       "      <td>79</td>\n",
       "      <td>Beautiful Crazy</td>\n",
       "      <td>Luke Combs</td>\n",
       "      <td>718COspgdWOnwOFpJHRZHS</td>\n",
       "      <td>0</td>\n",
       "      <td>0.552</td>\n",
       "      <td>0.402</td>\n",
       "      <td>11</td>\n",
       "      <td>-7.431</td>\n",
       "      <td>...</td>\n",
       "      <td>0.676</td>\n",
       "      <td>0.000000</td>\n",
       "      <td>0.0928</td>\n",
       "      <td>0.382</td>\n",
       "      <td>103.313</td>\n",
       "      <td>193200</td>\n",
       "      <td>4</td>\n",
       "      <td>86</td>\n",
       "      <td>contemporary country</td>\n",
       "      <td>country</td>\n",
       "    </tr>\n",
       "    <tr>\n",
       "      <th>2</th>\n",
       "      <td>7Lr4XaxGpkAwa37IVgg22k</td>\n",
       "      <td>69</td>\n",
       "      <td>Back To Life</td>\n",
       "      <td>Rascal Flatts</td>\n",
       "      <td>0a1gHP0HAqALbEyxaD5Ngn</td>\n",
       "      <td>0</td>\n",
       "      <td>0.467</td>\n",
       "      <td>0.701</td>\n",
       "      <td>4</td>\n",
       "      <td>-4.997</td>\n",
       "      <td>...</td>\n",
       "      <td>0.191</td>\n",
       "      <td>0.000000</td>\n",
       "      <td>0.0769</td>\n",
       "      <td>0.280</td>\n",
       "      <td>132.041</td>\n",
       "      <td>214219</td>\n",
       "      <td>3</td>\n",
       "      <td>76</td>\n",
       "      <td>contemporary country</td>\n",
       "      <td>country</td>\n",
       "    </tr>\n",
       "    <tr>\n",
       "      <th>3</th>\n",
       "      <td>5kp3JbZL1ROMxc32pcpn29</td>\n",
       "      <td>58</td>\n",
       "      <td>Slow Dance In A Parking Lot</td>\n",
       "      <td>Jordan Davis</td>\n",
       "      <td>77kULmXAQ6vWer7IIHdGzI</td>\n",
       "      <td>0</td>\n",
       "      <td>0.519</td>\n",
       "      <td>0.833</td>\n",
       "      <td>7</td>\n",
       "      <td>-4.470</td>\n",
       "      <td>...</td>\n",
       "      <td>0.303</td>\n",
       "      <td>0.000001</td>\n",
       "      <td>0.1690</td>\n",
       "      <td>0.514</td>\n",
       "      <td>81.992</td>\n",
       "      <td>193929</td>\n",
       "      <td>4</td>\n",
       "      <td>72</td>\n",
       "      <td>contemporary country</td>\n",
       "      <td>country</td>\n",
       "    </tr>\n",
       "    <tr>\n",
       "      <th>4</th>\n",
       "      <td>1wPiUPw9IqSchKwinw7dCf</td>\n",
       "      <td>10</td>\n",
       "      <td>Made For You</td>\n",
       "      <td>Jake Owen</td>\n",
       "      <td>1n2pb9Tsfe4SwAjmUac6YT</td>\n",
       "      <td>0</td>\n",
       "      <td>0.541</td>\n",
       "      <td>0.452</td>\n",
       "      <td>1</td>\n",
       "      <td>-6.129</td>\n",
       "      <td>...</td>\n",
       "      <td>0.762</td>\n",
       "      <td>0.000020</td>\n",
       "      <td>0.1140</td>\n",
       "      <td>0.325</td>\n",
       "      <td>82.052</td>\n",
       "      <td>238040</td>\n",
       "      <td>4</td>\n",
       "      <td>72</td>\n",
       "      <td>contemporary country</td>\n",
       "      <td>country</td>\n",
       "    </tr>\n",
       "  </tbody>\n",
       "</table>\n",
       "<p>5 rows × 22 columns</p>\n",
       "</div>"
      ],
      "text/plain": [
       "                track_ids  track_pop                   track_name  \\\n",
       "0  3GJ4hzg4lrGwU51Y3VARbF         78                   Speechless   \n",
       "1  2rxQMGVafnNaRaXlRMWPde         79              Beautiful Crazy   \n",
       "2  7Lr4XaxGpkAwa37IVgg22k         69                 Back To Life   \n",
       "3  5kp3JbZL1ROMxc32pcpn29         58  Slow Dance In A Parking Lot   \n",
       "4  1wPiUPw9IqSchKwinw7dCf         10                 Made For You   \n",
       "\n",
       "          artist              artist_ids  featured_artist  danceability  \\\n",
       "0     Dan + Shay  7z5WFjZAIYejWy0NI5lv4T                0         0.616   \n",
       "1     Luke Combs  718COspgdWOnwOFpJHRZHS                0         0.552   \n",
       "2  Rascal Flatts  0a1gHP0HAqALbEyxaD5Ngn                0         0.467   \n",
       "3   Jordan Davis  77kULmXAQ6vWer7IIHdGzI                0         0.519   \n",
       "4      Jake Owen  1n2pb9Tsfe4SwAjmUac6YT                0         0.541   \n",
       "\n",
       "   energy  key  loudness  ...  acousticness  instrumentalness  liveness  \\\n",
       "0   0.438    1    -5.968  ...         0.356          0.000000    0.2400   \n",
       "1   0.402   11    -7.431  ...         0.676          0.000000    0.0928   \n",
       "2   0.701    4    -4.997  ...         0.191          0.000000    0.0769   \n",
       "3   0.833    7    -4.470  ...         0.303          0.000001    0.1690   \n",
       "4   0.452    1    -6.129  ...         0.762          0.000020    0.1140   \n",
       "\n",
       "   valence    tempo  duration_ms  time_signature  artist_pop  \\\n",
       "0    0.386  135.929       213387               4          85   \n",
       "1    0.382  103.313       193200               4          86   \n",
       "2    0.280  132.041       214219               3          76   \n",
       "3    0.514   81.992       193929               4          72   \n",
       "4    0.325   82.052       238040               4          72   \n",
       "\n",
       "                  genre  category  \n",
       "0  contemporary country   country  \n",
       "1  contemporary country   country  \n",
       "2  contemporary country   country  \n",
       "3  contemporary country   country  \n",
       "4  contemporary country   country  \n",
       "\n",
       "[5 rows x 22 columns]"
      ]
     },
     "execution_count": 2,
     "metadata": {},
     "output_type": "execute_result"
    }
   ],
   "source": [
    "df = pd.read_csv('../../Data/final_without_duplicates.csv')\n",
    "df.drop('index', axis =1, inplace = True)\n",
    "df.head()"
   ]
  },
  {
   "cell_type": "code",
   "execution_count": 3,
   "metadata": {},
   "outputs": [],
   "source": [
    "X = df.drop(columns = ['track_ids', 'track_name', 'artist', 'artist_ids', 'genre'])\n",
    "X = pd.get_dummies(X)\n",
    "y = df['track_pop']"
   ]
  },
  {
   "cell_type": "code",
   "execution_count": 4,
   "metadata": {},
   "outputs": [],
   "source": [
    "X_train, X_test, y_train, y_test = train_test_split(X, y, random_state=42)"
   ]
  },
  {
   "cell_type": "code",
   "execution_count": 5,
   "metadata": {},
   "outputs": [],
   "source": [
    "ss = StandardScaler()\n",
    "X_train_sc = ss.fit_transform(X_train)\n",
    "X_test_sc = ss.transform(X_test)"
   ]
  },
  {
   "cell_type": "code",
   "execution_count": 6,
   "metadata": {},
   "outputs": [],
   "source": [
    "# credit- https://machinelearningmastery.com/custom-metrics-deep-learning-keras-python/\n",
    "def rmse(y_true, y_pred):\n",
    "    return backend.sqrt(backend.mean(backend.square(y_pred - y_true), axis=-1))"
   ]
  },
  {
   "cell_type": "code",
   "execution_count": null,
   "metadata": {
    "scrolled": false
   },
   "outputs": [],
   "source": [
    "def model_func(layer_one_neurons=32, layer_two_neurons=32):\n",
    "    model = Sequential()\n",
    "    \n",
    "    model.add(Dense(layer_one_neurons, activation='relu', input_shape=(22,)))\n",
    "    \n",
    "    model.add(Dense(layer_two_neurons, activation='relu'))\n",
    "    \n",
    "    model.add(Dense(1, activation=None))\n",
    "    \n",
    "    model.compile(loss='mse', optimizer='adam', metrics = ['RootMeanSquaredError'])\n",
    "    \n",
    "    return model\n",
    "\n",
    "nn = KerasRegressor(build_fn=model_func, batch_size=512, verbose=1)\n",
    "\n",
    "params = {\n",
    "    'epochs': [5,10],\n",
    "    'layer_one_neurons': [32, 50, 150],\n",
    "    'layer_two_neurons': [32, 12]\n",
    "}\n",
    "\n",
    "gs = GridSearchCV(nn, param_grid=params, cv=2)\n",
    "gs.fit(X_train_sc, y_train)\n",
    "print(gs.best_score_)\n",
    "gs.best_params_"
   ]
  },
  {
   "cell_type": "code",
   "execution_count": 14,
   "metadata": {},
   "outputs": [
    {
     "name": "stdout",
     "output_type": "stream",
     "text": [
      "3132/3132 [==============================] - 0s 13us/sample\n",
      "0.7600078435597477\n",
      "The rmse test score is 10.475581952262782.\n"
     ]
    }
   ],
   "source": [
    "pred = gs.predict(X_test_sc)\n",
    "print(metrics.r2_score(y_test, pred))\n",
    "\n",
    "res = pred - y_test\n",
    "\n",
    "SS_res = sum(res**2)\n",
    "MSE = SS_res / len(res)\n",
    "RMSE = np.sqrt(MSE)\n",
    "print( f'The rmse test score is {RMSE}.')"
   ]
  },
  {
   "cell_type": "code",
   "execution_count": 12,
   "metadata": {},
   "outputs": [
    {
     "data": {
      "text/plain": [
       "Text(0.5, 1.0, 'QQ Norm Plot')"
      ]
     },
     "execution_count": 12,
     "metadata": {},
     "output_type": "execute_result"
    },
    {
     "data": {
      "image/png": "[encoded data removed]",
      "text/plain": [
       "<Figure size 432x288 with 1 Axes>"
      ]
     },
     "metadata": {
      "needs_background": "light"
     },
     "output_type": "display_data"
    }
   ],
   "source": [
    "sm.qqplot(res ,stats.t, fit =True , line = '45');\n",
    "plt.title('QQ Norm Plot')"
   ]
  },
  {
   "cell_type": "code",
   "execution_count": 13,
   "metadata": {
    "scrolled": true
   },
   "outputs": [
    {
     "data": {
      "image/png": "[encoded data removed]",
      "text/plain": [
       "<Figure size 432x288 with 1 Axes>"
      ]
     },
     "metadata": {
      "needs_background": "light"
     },
     "output_type": "display_data"
    }
   ],
   "source": [
    "plt.hist(res);"
   ]
  },
  {
   "cell_type": "markdown",
   "metadata": {},
   "source": [
    "### Using l2 regularization"
   ]
  },
  {
   "cell_type": "code",
   "execution_count": null,
   "metadata": {
    "scrolled": false
   },
   "outputs": [],
   "source": [
    "def model_func(layer_one_neurons=32, layer_two_neurons=32):\n",
    "    model = Sequential()\n",
    "    \n",
    "    model.add(Dense(layer_one_neurons, activation='relu', input_shape=(22,), kernel_regularizer=regularizers.l2(0.01)\n",
    "))\n",
    "    \n",
    "    model.add(Dense(layer_two_neurons, activation='relu', kernel_regularizer=regularizers.l2(0.01)\n",
    "))\n",
    "    \n",
    "    model.add(Dense(1, activation=None))\n",
    "    \n",
    "    model.compile(loss='mse', optimizer='adam', metrics = ['RootMeanSquaredError'])\n",
    "    \n",
    "    return model\n",
    "\n",
    "nn = KerasRegressor(build_fn=model_func, batch_size=512, verbose=1)\n",
    "\n",
    "params = {\n",
    "    'epochs': [5,10],\n",
    "    'layer_one_neurons': [32, 50, 150],\n",
    "    'layer_two_neurons': [32, 12]\n",
    "}\n",
    "\n",
    "gs = GridSearchCV(nn, param_grid=params, cv=2)\n",
    "gs.fit(X_train_sc, y_train)\n",
    "print(gs.best_score_)\n",
    "gs.best_params_"
   ]
  },
  {
   "cell_type": "code",
   "execution_count": 17,
   "metadata": {},
   "outputs": [
    {
     "name": "stdout",
     "output_type": "stream",
     "text": [
      "3132/3132 [==============================] - 0s 10us/sample\n",
      "0.7545222438256514\n",
      "The rmse test score is 10.594627874639233.\n"
     ]
    }
   ],
   "source": [
    "pred2 = gs.predict(X_test_sc)\n",
    "print(metrics.r2_score(y_test, pred2))\n",
    "\n",
    "res2 = pred2 - y_test\n",
    "\n",
    "SS_res = sum(res2**2)\n",
    "MSE = SS_res / len(res2)\n",
    "RMSE = np.sqrt(MSE)\n",
    "print( f'The rmse test score is {RMSE}.')"
   ]
  },
  {
   "cell_type": "markdown",
   "metadata": {},
   "source": [
    "### With Dropout"
   ]
  },
  {
   "cell_type": "code",
   "execution_count": null,
   "metadata": {},
   "outputs": [],
   "source": [
    "def model_func(layer_one_neurons=32, layer_two_neurons=32):\n",
    "    model = Sequential()\n",
    "    \n",
    "    model.add(Dense(layer_one_neurons, activation='relu', input_shape=(22,)))\n",
    "    model.add(Dropout(0.5))\n",
    "    model.add(Dense(layer_two_neurons, activation='relu'))\n",
    "    model.add(Dropout(0.5))\n",
    "    model.add(Dense(1, activation=None))\n",
    "    \n",
    "    model.compile(loss='mse', optimizer='adam', metrics = ['RootMeanSquaredError'])\n",
    "    \n",
    "    return model\n",
    "\n",
    "nn = KerasRegressor(build_fn=model_func, batch_size=512, verbose=1)\n",
    "\n",
    "params = {\n",
    "    'epochs': [5,10],\n",
    "    'layer_one_neurons': [32, 50, 150],\n",
    "    'layer_two_neurons': [32, 12]\n",
    "}\n",
    "\n",
    "gs = GridSearchCV(nn, param_grid=params, cv=2)\n",
    "gs.fit(X_train_sc, y_train)\n",
    "print(gs.best_score_)\n",
    "gs.best_params_"
   ]
  },
  {
   "cell_type": "code",
   "execution_count": 27,
   "metadata": {
    "scrolled": true
   },
   "outputs": [
    {
     "name": "stdout",
     "output_type": "stream",
     "text": [
      "3132/3132 [==============================] - 0s 16us/sample\n",
      "0.7717741816543817\n",
      "The rmse test score is 10.215556290475602.\n"
     ]
    }
   ],
   "source": [
    "pred3 = gs.predict(X_test_sc)\n",
    "print(metrics.r2_score(y_test, pred3))\n",
    "\n",
    "res3 = pred3 - y_test\n",
    "\n",
    "SS_res = sum(res3**2)\n",
    "MSE = SS_res / len(res3)\n",
    "RMSE = np.sqrt(MSE)\n",
    "print( f'The rmse test score is {RMSE}.')"
   ]
  },
  {
   "cell_type": "markdown",
   "metadata": {},
   "source": [
    "### Early stopping"
   ]
  },
  {
   "cell_type": "code",
   "execution_count": null,
   "metadata": {},
   "outputs": [],
   "source": [
    "def model_func(layer_one_neurons=32, layer_two_neurons=32):\n",
    "    model = Sequential()\n",
    "    \n",
    "    model.add(Dense(layer_one_neurons, activation='relu', input_shape=(22,)))\n",
    "    \n",
    "    model.add(Dense(layer_two_neurons, activation='relu'))\n",
    "    \n",
    "    model.add(Dense(1, activation=None))\n",
    "    \n",
    "    model.compile(loss='mse', optimizer='adam', metrics = ['RootMeanSquaredError'])\n",
    "    early_stop = EarlyStopping(monitor='val_loss', min_delta=0, patience=5, verbose=1, mode='auto')\n",
    "\n",
    "    return model\n",
    "\n",
    "nn = KerasRegressor(build_fn=model_func, batch_size=512, verbose=1)\n",
    "\n",
    "params = {\n",
    "    'epochs': [5,10],\n",
    "    'layer_one_neurons': [32, 50, 150],\n",
    "    'layer_two_neurons': [32, 12]\n",
    "}\n",
    "\n",
    "gs = GridSearchCV(nn, param_grid=params, cv=2)\n",
    "gs.fit(X_train_sc, y_train)\n",
    "print(gs.best_score_)\n",
    "gs.best_params_"
   ]
  },
  {
   "cell_type": "markdown",
   "metadata": {},
   "source": [
    "### Final Neural Network Model"
   ]
  },
  {
   "cell_type": "code",
   "execution_count": null,
   "metadata": {},
   "outputs": [],
   "source": [
    "def model_func(layer_one_neurons=32, layer_two_neurons=32, dropout_num = 0.5):\n",
    "    model = Sequential()\n",
    "    \n",
    "    model.add(Dense(layer_one_neurons, activation='relu', input_shape=(22,), kernel_regularizer=regularizers.l2(0.01)\n",
    "))\n",
    "    model.add(Dropout(dropout_num))\n",
    "\n",
    "    model.add(Dense(layer_two_neurons, activation='relu', kernel_regularizer=regularizers.l2(0.01)\n",
    "))\n",
    "    model.add(Dropout(dropout_num))\n",
    "\n",
    "    model.add(Dense(1, activation=None))\n",
    "    \n",
    "    model.compile(loss='mse', optimizer='adam', metrics = ['RootMeanSquaredError'])\n",
    "    \n",
    "    return model\n",
    "\n",
    "nn = KerasRegressor(build_fn=model_func, batch_size=512, verbose=1)\n",
    "\n",
    "params = {\n",
    "    'epochs': [5,10],\n",
    "    'layer_one_neurons': [32, 50, 150],\n",
    "    'layer_two_neurons': [32, 12],\n",
    "    'dropout_num': [0.1, 0.3, 0.5]\n",
    "}\n",
    "\n",
    "gs = GridSearchCV(nn, param_grid=params, cv=2)\n",
    "gs.fit(X_train_sc, y_train)\n",
    "print(gs.best_score_)\n",
    "gs.best_params_"
   ]
  },
  {
   "cell_type": "code",
   "execution_count": 29,
   "metadata": {},
   "outputs": [
    {
     "name": "stdout",
     "output_type": "stream",
     "text": [
      "3132/3132 [==============================] - 0s 12us/sample\n",
      "0.8080879238032244\n",
      "The rmse test score is 9.367652818525457.\n"
     ]
    }
   ],
   "source": [
    "pred_final = gs.predict(X_test_sc)\n",
    "print(metrics.r2_score(y_test, pred_final))\n",
    "\n",
    "res_final = pred_final - y_test\n",
    "\n",
    "SS_res = sum(res_final**2)\n",
    "MSE = SS_res / len(res_final)\n",
    "RMSE = np.sqrt(MSE)\n",
    "print( f'The rmse test score is {RMSE}.')"
   ]
  },
  {
   "cell_type": "code",
   "execution_count": null,
   "metadata": {},
   "outputs": [],
   "source": []
  }
 ],
 "metadata": {
  "kernelspec": {
   "display_name": "Python [conda env:root] *",
   "language": "python",
   "name": "conda-root-py"
  },
  "language_info": {
   "codemirror_mode": {
    "name": "ipython",
    "version": 3
   },
   "file_extension": ".py",
   "mimetype": "text/x-python",
   "name": "python",
   "nbconvert_exporter": "python",
   "pygments_lexer": "ipython3",
   "version": "3.7.4"
  }
 },
 "nbformat": 4,
 "nbformat_minor": 2
}
