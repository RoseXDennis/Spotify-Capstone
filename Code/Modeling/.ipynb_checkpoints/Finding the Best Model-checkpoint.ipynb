{
 "cells": [
  {
   "cell_type": "markdown",
   "metadata": {},
   "source": [
    "# Modeling with white and black box methods"
   ]
  },
  {
   "cell_type": "code",
   "execution_count": 1,
   "metadata": {},
   "outputs": [],
   "source": [
    "import pandas as pd\n",
    "import numpy as np\n",
    "from sklearn.model_selection import train_test_split, GridSearchCV, cross_val_score\n",
    "import statsmodels.api as sm\n",
    "from sklearn.linear_model import LogisticRegression, RidgeCV, LassoCV, LinearRegression\n",
    "from sklearn.pipeline import Pipeline\n",
    "from sklearn import metrics\n",
    "from sklearn.neighbors import KNeighborsRegressor\n",
    "from sklearn.preprocessing import StandardScaler\n",
    "from sklearn.ensemble import BaggingRegressor, RandomForestRegressor\n",
    "import matplotlib.pyplot as plt\n",
    "from scipy import stats\n"
   ]
  },
  {
   "cell_type": "markdown",
   "metadata": {},
   "source": [
    "Load in the data"
   ]
  },
  {
   "cell_type": "code",
   "execution_count": 2,
   "metadata": {},
   "outputs": [
    {
     "data": {
      "text/html": [
       "<div>\n",
       "<style scoped>\n",
       "    .dataframe tbody tr th:only-of-type {\n",
       "        vertical-align: middle;\n",
       "    }\n",
       "\n",
       "    .dataframe tbody tr th {\n",
       "        vertical-align: top;\n",
       "    }\n",
       "\n",
       "    .dataframe thead th {\n",
       "        text-align: right;\n",
       "    }\n",
       "</style>\n",
       "<table border=\"1\" class=\"dataframe\">\n",
       "  <thead>\n",
       "    <tr style=\"text-align: right;\">\n",
       "      <th></th>\n",
       "      <th>track_ids</th>\n",
       "      <th>track_pop</th>\n",
       "      <th>track_name</th>\n",
       "      <th>artist</th>\n",
       "      <th>artist_ids</th>\n",
       "      <th>featured_artist</th>\n",
       "      <th>danceability</th>\n",
       "      <th>energy</th>\n",
       "      <th>key</th>\n",
       "      <th>loudness</th>\n",
       "      <th>...</th>\n",
       "      <th>acousticness</th>\n",
       "      <th>instrumentalness</th>\n",
       "      <th>liveness</th>\n",
       "      <th>valence</th>\n",
       "      <th>tempo</th>\n",
       "      <th>duration_ms</th>\n",
       "      <th>time_signature</th>\n",
       "      <th>artist_pop</th>\n",
       "      <th>genre</th>\n",
       "      <th>category</th>\n",
       "    </tr>\n",
       "  </thead>\n",
       "  <tbody>\n",
       "    <tr>\n",
       "      <th>0</th>\n",
       "      <td>3GJ4hzg4lrGwU51Y3VARbF</td>\n",
       "      <td>78</td>\n",
       "      <td>Speechless</td>\n",
       "      <td>Dan + Shay</td>\n",
       "      <td>7z5WFjZAIYejWy0NI5lv4T</td>\n",
       "      <td>0</td>\n",
       "      <td>0.616</td>\n",
       "      <td>0.438</td>\n",
       "      <td>1</td>\n",
       "      <td>-5.968</td>\n",
       "      <td>...</td>\n",
       "      <td>0.356</td>\n",
       "      <td>0.000000</td>\n",
       "      <td>0.2400</td>\n",
       "      <td>0.386</td>\n",
       "      <td>135.929</td>\n",
       "      <td>213387</td>\n",
       "      <td>4</td>\n",
       "      <td>85</td>\n",
       "      <td>contemporary country</td>\n",
       "      <td>country</td>\n",
       "    </tr>\n",
       "    <tr>\n",
       "      <th>1</th>\n",
       "      <td>2rxQMGVafnNaRaXlRMWPde</td>\n",
       "      <td>79</td>\n",
       "      <td>Beautiful Crazy</td>\n",
       "      <td>Luke Combs</td>\n",
       "      <td>718COspgdWOnwOFpJHRZHS</td>\n",
       "      <td>0</td>\n",
       "      <td>0.552</td>\n",
       "      <td>0.402</td>\n",
       "      <td>11</td>\n",
       "      <td>-7.431</td>\n",
       "      <td>...</td>\n",
       "      <td>0.676</td>\n",
       "      <td>0.000000</td>\n",
       "      <td>0.0928</td>\n",
       "      <td>0.382</td>\n",
       "      <td>103.313</td>\n",
       "      <td>193200</td>\n",
       "      <td>4</td>\n",
       "      <td>86</td>\n",
       "      <td>contemporary country</td>\n",
       "      <td>country</td>\n",
       "    </tr>\n",
       "    <tr>\n",
       "      <th>2</th>\n",
       "      <td>7Lr4XaxGpkAwa37IVgg22k</td>\n",
       "      <td>69</td>\n",
       "      <td>Back To Life</td>\n",
       "      <td>Rascal Flatts</td>\n",
       "      <td>0a1gHP0HAqALbEyxaD5Ngn</td>\n",
       "      <td>0</td>\n",
       "      <td>0.467</td>\n",
       "      <td>0.701</td>\n",
       "      <td>4</td>\n",
       "      <td>-4.997</td>\n",
       "      <td>...</td>\n",
       "      <td>0.191</td>\n",
       "      <td>0.000000</td>\n",
       "      <td>0.0769</td>\n",
       "      <td>0.280</td>\n",
       "      <td>132.041</td>\n",
       "      <td>214219</td>\n",
       "      <td>3</td>\n",
       "      <td>76</td>\n",
       "      <td>contemporary country</td>\n",
       "      <td>country</td>\n",
       "    </tr>\n",
       "    <tr>\n",
       "      <th>3</th>\n",
       "      <td>5kp3JbZL1ROMxc32pcpn29</td>\n",
       "      <td>58</td>\n",
       "      <td>Slow Dance In A Parking Lot</td>\n",
       "      <td>Jordan Davis</td>\n",
       "      <td>77kULmXAQ6vWer7IIHdGzI</td>\n",
       "      <td>0</td>\n",
       "      <td>0.519</td>\n",
       "      <td>0.833</td>\n",
       "      <td>7</td>\n",
       "      <td>-4.470</td>\n",
       "      <td>...</td>\n",
       "      <td>0.303</td>\n",
       "      <td>0.000001</td>\n",
       "      <td>0.1690</td>\n",
       "      <td>0.514</td>\n",
       "      <td>81.992</td>\n",
       "      <td>193929</td>\n",
       "      <td>4</td>\n",
       "      <td>72</td>\n",
       "      <td>contemporary country</td>\n",
       "      <td>country</td>\n",
       "    </tr>\n",
       "    <tr>\n",
       "      <th>4</th>\n",
       "      <td>1wPiUPw9IqSchKwinw7dCf</td>\n",
       "      <td>10</td>\n",
       "      <td>Made For You</td>\n",
       "      <td>Jake Owen</td>\n",
       "      <td>1n2pb9Tsfe4SwAjmUac6YT</td>\n",
       "      <td>0</td>\n",
       "      <td>0.541</td>\n",
       "      <td>0.452</td>\n",
       "      <td>1</td>\n",
       "      <td>-6.129</td>\n",
       "      <td>...</td>\n",
       "      <td>0.762</td>\n",
       "      <td>0.000020</td>\n",
       "      <td>0.1140</td>\n",
       "      <td>0.325</td>\n",
       "      <td>82.052</td>\n",
       "      <td>238040</td>\n",
       "      <td>4</td>\n",
       "      <td>72</td>\n",
       "      <td>contemporary country</td>\n",
       "      <td>country</td>\n",
       "    </tr>\n",
       "  </tbody>\n",
       "</table>\n",
       "<p>5 rows × 22 columns</p>\n",
       "</div>"
      ],
      "text/plain": [
       "                track_ids  track_pop                   track_name  \\\n",
       "0  3GJ4hzg4lrGwU51Y3VARbF         78                   Speechless   \n",
       "1  2rxQMGVafnNaRaXlRMWPde         79              Beautiful Crazy   \n",
       "2  7Lr4XaxGpkAwa37IVgg22k         69                 Back To Life   \n",
       "3  5kp3JbZL1ROMxc32pcpn29         58  Slow Dance In A Parking Lot   \n",
       "4  1wPiUPw9IqSchKwinw7dCf         10                 Made For You   \n",
       "\n",
       "          artist              artist_ids  featured_artist  danceability  \\\n",
       "0     Dan + Shay  7z5WFjZAIYejWy0NI5lv4T                0         0.616   \n",
       "1     Luke Combs  718COspgdWOnwOFpJHRZHS                0         0.552   \n",
       "2  Rascal Flatts  0a1gHP0HAqALbEyxaD5Ngn                0         0.467   \n",
       "3   Jordan Davis  77kULmXAQ6vWer7IIHdGzI                0         0.519   \n",
       "4      Jake Owen  1n2pb9Tsfe4SwAjmUac6YT                0         0.541   \n",
       "\n",
       "   energy  key  loudness  ...  acousticness  instrumentalness  liveness  \\\n",
       "0   0.438    1    -5.968  ...         0.356          0.000000    0.2400   \n",
       "1   0.402   11    -7.431  ...         0.676          0.000000    0.0928   \n",
       "2   0.701    4    -4.997  ...         0.191          0.000000    0.0769   \n",
       "3   0.833    7    -4.470  ...         0.303          0.000001    0.1690   \n",
       "4   0.452    1    -6.129  ...         0.762          0.000020    0.1140   \n",
       "\n",
       "   valence    tempo  duration_ms  time_signature  artist_pop  \\\n",
       "0    0.386  135.929       213387               4          85   \n",
       "1    0.382  103.313       193200               4          86   \n",
       "2    0.280  132.041       214219               3          76   \n",
       "3    0.514   81.992       193929               4          72   \n",
       "4    0.325   82.052       238040               4          72   \n",
       "\n",
       "                  genre  category  \n",
       "0  contemporary country   country  \n",
       "1  contemporary country   country  \n",
       "2  contemporary country   country  \n",
       "3  contemporary country   country  \n",
       "4  contemporary country   country  \n",
       "\n",
       "[5 rows x 22 columns]"
      ]
     },
     "execution_count": 2,
     "metadata": {},
     "output_type": "execute_result"
    }
   ],
   "source": [
    "df = pd.read_csv('../../Data/final_without_duplicates.csv')\n",
    "df.drop('index', axis =1, inplace = True)\n",
    "df.head()"
   ]
  },
  {
   "cell_type": "markdown",
   "metadata": {},
   "source": [
    "## Metric Function"
   ]
  },
  {
   "cell_type": "code",
   "execution_count": 3,
   "metadata": {},
   "outputs": [],
   "source": [
    "# Metrics function-- takes the train or test data and an instantiated model\n",
    "def df_metrics(X,y, model):\n",
    "    model = model.fit(X, y)\n",
    "    \n",
    "    predictions = model.predict(X)\n",
    "    residuals = y - predictions\n",
    "    SS_res = sum((residuals)**2)\n",
    "    SS_tot = sum((y-y.mean())**2)\n",
    "    MAE = np.abs(residuals).mean()\n",
    "    MSE = SS_res / len(residuals)\n",
    "    RMSE = np.sqrt(MSE)\n",
    "    R2 = 1- ((SS_res)/(SS_tot))\n",
    "    dof_res = len(y)-len(X.columns)-1\n",
    "    dof_tot = len(y)-1\n",
    "    adj_r2 = 1- ((SS_res/dof_res)/(SS_tot/dof_tot))\n",
    "    \n",
    "    print( f\" Residual sum of squares = {SS_res} \")\n",
    "    print( f\" Total sum of squares = {SS_tot} \")\n",
    "    print( f\" Mean Absolute Error = {MAE} \")\n",
    "    print( f\" Mean Squared Error = {MSE} \")\n",
    "    print( f\" Root Mean Squared Error = {RMSE} \")\n",
    "    print( f\" R^2 = {R2} \")\n",
    "    print( f\" Adjusted R^2 = {adj_r2} \")\n",
    "    print('The mean cross validation score is' , cross_val_score(model, X, y, cv =5).mean())"
   ]
  },
  {
   "cell_type": "markdown",
   "metadata": {},
   "source": [
    "## Whole Dataframe Modeling"
   ]
  },
  {
   "cell_type": "markdown",
   "metadata": {},
   "source": [
    "Making a usable X and y"
   ]
  },
  {
   "cell_type": "code",
   "execution_count": 4,
   "metadata": {},
   "outputs": [],
   "source": [
    "# Didn't use artist pop bc it's derived from track pop\n",
    "\n",
    "all_features = ['featured_artist', 'danceability', 'energy', 'key', 'loudness', 'mode',\n",
    "       'speechiness', 'acousticness', 'instrumentalness', 'liveness',\n",
    "       'valence', 'tempo', 'duration_ms', 'time_signature','category']"
   ]
  },
  {
   "cell_type": "code",
   "execution_count": 5,
   "metadata": {},
   "outputs": [
    {
     "data": {
      "text/html": [
       "<div>\n",
       "<style scoped>\n",
       "    .dataframe tbody tr th:only-of-type {\n",
       "        vertical-align: middle;\n",
       "    }\n",
       "\n",
       "    .dataframe tbody tr th {\n",
       "        vertical-align: top;\n",
       "    }\n",
       "\n",
       "    .dataframe thead th {\n",
       "        text-align: right;\n",
       "    }\n",
       "</style>\n",
       "<table border=\"1\" class=\"dataframe\">\n",
       "  <thead>\n",
       "    <tr style=\"text-align: right;\">\n",
       "      <th></th>\n",
       "      <th>featured_artist</th>\n",
       "      <th>danceability</th>\n",
       "      <th>energy</th>\n",
       "      <th>key</th>\n",
       "      <th>loudness</th>\n",
       "      <th>mode</th>\n",
       "      <th>speechiness</th>\n",
       "      <th>acousticness</th>\n",
       "      <th>instrumentalness</th>\n",
       "      <th>liveness</th>\n",
       "      <th>valence</th>\n",
       "      <th>tempo</th>\n",
       "      <th>duration_ms</th>\n",
       "      <th>time_signature</th>\n",
       "      <th>category_club</th>\n",
       "      <th>category_country</th>\n",
       "      <th>category_hits</th>\n",
       "      <th>category_pop</th>\n",
       "      <th>category_rap</th>\n",
       "    </tr>\n",
       "  </thead>\n",
       "  <tbody>\n",
       "    <tr>\n",
       "      <th>0</th>\n",
       "      <td>0</td>\n",
       "      <td>0.616</td>\n",
       "      <td>0.438</td>\n",
       "      <td>1</td>\n",
       "      <td>-5.968</td>\n",
       "      <td>1</td>\n",
       "      <td>0.0298</td>\n",
       "      <td>0.356</td>\n",
       "      <td>0.000000</td>\n",
       "      <td>0.2400</td>\n",
       "      <td>0.386</td>\n",
       "      <td>135.929</td>\n",
       "      <td>213387</td>\n",
       "      <td>4</td>\n",
       "      <td>0</td>\n",
       "      <td>1</td>\n",
       "      <td>0</td>\n",
       "      <td>0</td>\n",
       "      <td>0</td>\n",
       "    </tr>\n",
       "    <tr>\n",
       "      <th>1</th>\n",
       "      <td>0</td>\n",
       "      <td>0.552</td>\n",
       "      <td>0.402</td>\n",
       "      <td>11</td>\n",
       "      <td>-7.431</td>\n",
       "      <td>1</td>\n",
       "      <td>0.0262</td>\n",
       "      <td>0.676</td>\n",
       "      <td>0.000000</td>\n",
       "      <td>0.0928</td>\n",
       "      <td>0.382</td>\n",
       "      <td>103.313</td>\n",
       "      <td>193200</td>\n",
       "      <td>4</td>\n",
       "      <td>0</td>\n",
       "      <td>1</td>\n",
       "      <td>0</td>\n",
       "      <td>0</td>\n",
       "      <td>0</td>\n",
       "    </tr>\n",
       "    <tr>\n",
       "      <th>2</th>\n",
       "      <td>0</td>\n",
       "      <td>0.467</td>\n",
       "      <td>0.701</td>\n",
       "      <td>4</td>\n",
       "      <td>-4.997</td>\n",
       "      <td>1</td>\n",
       "      <td>0.0302</td>\n",
       "      <td>0.191</td>\n",
       "      <td>0.000000</td>\n",
       "      <td>0.0769</td>\n",
       "      <td>0.280</td>\n",
       "      <td>132.041</td>\n",
       "      <td>214219</td>\n",
       "      <td>3</td>\n",
       "      <td>0</td>\n",
       "      <td>1</td>\n",
       "      <td>0</td>\n",
       "      <td>0</td>\n",
       "      <td>0</td>\n",
       "    </tr>\n",
       "    <tr>\n",
       "      <th>3</th>\n",
       "      <td>0</td>\n",
       "      <td>0.519</td>\n",
       "      <td>0.833</td>\n",
       "      <td>7</td>\n",
       "      <td>-4.470</td>\n",
       "      <td>1</td>\n",
       "      <td>0.0344</td>\n",
       "      <td>0.303</td>\n",
       "      <td>0.000001</td>\n",
       "      <td>0.1690</td>\n",
       "      <td>0.514</td>\n",
       "      <td>81.992</td>\n",
       "      <td>193929</td>\n",
       "      <td>4</td>\n",
       "      <td>0</td>\n",
       "      <td>1</td>\n",
       "      <td>0</td>\n",
       "      <td>0</td>\n",
       "      <td>0</td>\n",
       "    </tr>\n",
       "    <tr>\n",
       "      <th>4</th>\n",
       "      <td>0</td>\n",
       "      <td>0.541</td>\n",
       "      <td>0.452</td>\n",
       "      <td>1</td>\n",
       "      <td>-6.129</td>\n",
       "      <td>1</td>\n",
       "      <td>0.0279</td>\n",
       "      <td>0.762</td>\n",
       "      <td>0.000020</td>\n",
       "      <td>0.1140</td>\n",
       "      <td>0.325</td>\n",
       "      <td>82.052</td>\n",
       "      <td>238040</td>\n",
       "      <td>4</td>\n",
       "      <td>0</td>\n",
       "      <td>1</td>\n",
       "      <td>0</td>\n",
       "      <td>0</td>\n",
       "      <td>0</td>\n",
       "    </tr>\n",
       "  </tbody>\n",
       "</table>\n",
       "</div>"
      ],
      "text/plain": [
       "   featured_artist  danceability  energy  key  loudness  mode  speechiness  \\\n",
       "0                0         0.616   0.438    1    -5.968     1       0.0298   \n",
       "1                0         0.552   0.402   11    -7.431     1       0.0262   \n",
       "2                0         0.467   0.701    4    -4.997     1       0.0302   \n",
       "3                0         0.519   0.833    7    -4.470     1       0.0344   \n",
       "4                0         0.541   0.452    1    -6.129     1       0.0279   \n",
       "\n",
       "   acousticness  instrumentalness  liveness  valence    tempo  duration_ms  \\\n",
       "0         0.356          0.000000    0.2400    0.386  135.929       213387   \n",
       "1         0.676          0.000000    0.0928    0.382  103.313       193200   \n",
       "2         0.191          0.000000    0.0769    0.280  132.041       214219   \n",
       "3         0.303          0.000001    0.1690    0.514   81.992       193929   \n",
       "4         0.762          0.000020    0.1140    0.325   82.052       238040   \n",
       "\n",
       "   time_signature  category_club  category_country  category_hits  \\\n",
       "0               4              0                 1              0   \n",
       "1               4              0                 1              0   \n",
       "2               3              0                 1              0   \n",
       "3               4              0                 1              0   \n",
       "4               4              0                 1              0   \n",
       "\n",
       "   category_pop  category_rap  \n",
       "0             0             0  \n",
       "1             0             0  \n",
       "2             0             0  \n",
       "3             0             0  \n",
       "4             0             0  "
      ]
     },
     "execution_count": 5,
     "metadata": {},
     "output_type": "execute_result"
    }
   ],
   "source": [
    "X = df[all_features]\n",
    "y = df['track_pop']\n",
    "\n",
    "X = pd.get_dummies(X, columns =['category'], drop_first=True)\n",
    "X.head()"
   ]
  },
  {
   "cell_type": "code",
   "execution_count": 6,
   "metadata": {},
   "outputs": [],
   "source": [
    "X_train, X_test, y_train, y_test = train_test_split(X, y, random_state=42)"
   ]
  },
  {
   "cell_type": "markdown",
   "metadata": {},
   "source": [
    "#### Linear Regression"
   ]
  },
  {
   "cell_type": "code",
   "execution_count": 7,
   "metadata": {
    "scrolled": true
   },
   "outputs": [
    {
     "name": "stdout",
     "output_type": "stream",
     "text": [
      " Residual sum of squares = 3668867.1606088066 \n",
      " Total sum of squares = 4203148.080255491 \n",
      " Mean Absolute Error = 15.423150358303708 \n",
      " Mean Squared Error = 390.5127366268022 \n",
      " Root Mean Squared Error = 19.761395108311614 \n",
      " R^2 = 0.12711446502598778 \n",
      " Adjusted R^2 = 0.12534541700844049 \n",
      "The mean cross validation score is 0.12281925013928838\n"
     ]
    }
   ],
   "source": [
    "df_metrics(X_train, y_train, model = LinearRegression())"
   ]
  },
  {
   "cell_type": "code",
   "execution_count": 8,
   "metadata": {},
   "outputs": [
    {
     "name": "stdout",
     "output_type": "stream",
     "text": [
      " Residual sum of squares = 1237593.8346025432 \n",
      " Total sum of squares = 1432125.3189655175 \n",
      " Mean Absolute Error = 15.451552566249752 \n",
      " Mean Squared Error = 395.14490249123344 \n",
      " Root Mean Squared Error = 19.878251997880334 \n",
      " R^2 = 0.1358341213487464 \n",
      " Adjusted R^2 = 0.13055804432613272 \n",
      "The mean cross validation score is 0.12447337306103268\n"
     ]
    }
   ],
   "source": [
    "df_metrics(X_test, y_test, model = LinearRegression())"
   ]
  },
  {
   "cell_type": "markdown",
   "metadata": {},
   "source": [
    "#### Logistic Regression"
   ]
  },
  {
   "cell_type": "code",
   "execution_count": 9,
   "metadata": {},
   "outputs": [],
   "source": [
    "log_params = {\n",
    "    'max_iter': [5,10,100],\n",
    "}"
   ]
  },
  {
   "cell_type": "code",
   "execution_count": 10,
   "metadata": {},
   "outputs": [],
   "source": [
    "log_gridsearch = GridSearchCV(LogisticRegression(), \n",
    "                              log_params, \n",
    "                              cv=5, \n",
    "                              verbose=1)"
   ]
  },
  {
   "cell_type": "code",
   "execution_count": null,
   "metadata": {
    "scrolled": false
   },
   "outputs": [],
   "source": [
    "log_gridsearch.fit(X_train, y_train);"
   ]
  },
  {
   "cell_type": "code",
   "execution_count": 12,
   "metadata": {},
   "outputs": [
    {
     "name": "stdout",
     "output_type": "stream",
     "text": [
      "0.026290580095795636\n"
     ]
    },
    {
     "data": {
      "text/plain": [
       "0.026181353767560665"
      ]
     },
     "execution_count": 12,
     "metadata": {},
     "output_type": "execute_result"
    }
   ],
   "source": [
    "log_final = log_gridsearch.best_estimator_\n",
    "print(log_final.score(X_train, y_train))\n",
    "log_final.score(X_test, y_test)"
   ]
  },
  {
   "cell_type": "code",
   "execution_count": 13,
   "metadata": {},
   "outputs": [
    {
     "name": "stdout",
     "output_type": "stream",
     "text": [
      "The rmse test score is 22.337328801405956.\n"
     ]
    }
   ],
   "source": [
    "log_preds = log_final.predict(X_test)\n",
    "log_res = log_preds - y_test\n",
    "SS_res = sum(log_res**2)\n",
    "MSE = SS_res / len(log_res)\n",
    "RMSE = np.sqrt(MSE)\n",
    "print( f'The rmse test score is {RMSE}.')"
   ]
  },
  {
   "cell_type": "markdown",
   "metadata": {},
   "source": [
    "#### KNN"
   ]
  },
  {
   "cell_type": "code",
   "execution_count": 14,
   "metadata": {},
   "outputs": [],
   "source": [
    "ss = StandardScaler()\n",
    "X_train_sc = ss.fit_transform(X_train)\n",
    "X_test_sc = ss.transform(X_test)"
   ]
  },
  {
   "cell_type": "code",
   "execution_count": 15,
   "metadata": {},
   "outputs": [],
   "source": [
    "knn_params = {\n",
    "    'n_neighbors': range(1, 51, 10),\n",
    "    'metric': ['euclidean', 'manhattan'],\n",
    "    'weights': ['uniform', 'distance']\n",
    "}"
   ]
  },
  {
   "cell_type": "code",
   "execution_count": 16,
   "metadata": {},
   "outputs": [],
   "source": [
    "knn_gridsearch = GridSearchCV(KNeighborsRegressor(), \n",
    "                              knn_params, \n",
    "                              cv=5, \n",
    "                              verbose=1)"
   ]
  },
  {
   "cell_type": "code",
   "execution_count": 17,
   "metadata": {},
   "outputs": [
    {
     "name": "stdout",
     "output_type": "stream",
     "text": [
      "Fitting 5 folds for each of 20 candidates, totalling 100 fits\n"
     ]
    },
    {
     "name": "stderr",
     "output_type": "stream",
     "text": [
      "[Parallel(n_jobs=1)]: Using backend SequentialBackend with 1 concurrent workers.\n",
      "[Parallel(n_jobs=1)]: Done 100 out of 100 | elapsed:   38.7s finished\n"
     ]
    }
   ],
   "source": [
    "knn_gridsearch.fit(X_train_sc, y_train);"
   ]
  },
  {
   "cell_type": "code",
   "execution_count": 18,
   "metadata": {},
   "outputs": [
    {
     "data": {
      "text/plain": [
       "{'metric': 'manhattan', 'n_neighbors': 41, 'weights': 'uniform'}"
      ]
     },
     "execution_count": 18,
     "metadata": {},
     "output_type": "execute_result"
    }
   ],
   "source": [
    "knn_gridsearch.best_params_"
   ]
  },
  {
   "cell_type": "code",
   "execution_count": 19,
   "metadata": {},
   "outputs": [
    {
     "name": "stdout",
     "output_type": "stream",
     "text": [
      "0.1509893917577545\n"
     ]
    },
    {
     "data": {
      "text/plain": [
       "0.11992074563853983"
      ]
     },
     "execution_count": 19,
     "metadata": {},
     "output_type": "execute_result"
    }
   ],
   "source": [
    "knn_final = knn_gridsearch.best_estimator_\n",
    "print(knn_final.score(X_train_sc, y_train))\n",
    "knn_final.score(X_test_sc, y_test)"
   ]
  },
  {
   "cell_type": "code",
   "execution_count": 20,
   "metadata": {},
   "outputs": [
    {
     "name": "stdout",
     "output_type": "stream",
     "text": [
      "The rmse test score is 20.060443330383794.\n"
     ]
    }
   ],
   "source": [
    "knn_preds = knn_final.predict(X_test_sc)\n",
    "knn_res = knn_preds - y_test\n",
    "SS_res = sum(knn_res**2)\n",
    "MSE = SS_res / len(knn_res)\n",
    "RMSE = np.sqrt(MSE)\n",
    "print( f'The rmse test score is {RMSE}.')"
   ]
  },
  {
   "cell_type": "markdown",
   "metadata": {},
   "source": [
    "#### Ridge Regression"
   ]
  },
  {
   "cell_type": "code",
   "execution_count": 21,
   "metadata": {},
   "outputs": [],
   "source": [
    "r_alphas = np.logspace(0, 5, 100)\n",
    "# Generates 100 values equally between 0 and 5,\n",
    "# then converts them to alphas between 10^0 and 10^5.\n",
    "\n",
    "# Cross-validate over our list of ridge alphas.\n",
    "ridge = RidgeCV(alphas=r_alphas, scoring='r2', cv=5)\n",
    "\n",
    "# Fit model using best ridge alpha!\n",
    "ridge_final = ridge.fit(X_train_sc, y_train)"
   ]
  },
  {
   "cell_type": "code",
   "execution_count": 22,
   "metadata": {},
   "outputs": [
    {
     "name": "stdout",
     "output_type": "stream",
     "text": [
      "0.12707809129218461\n",
      "0.13070363298556886\n"
     ]
    }
   ],
   "source": [
    "print(ridge_final.score(X_train_sc, y_train))\n",
    "print(ridge_final.score(X_test_sc, y_test))"
   ]
  },
  {
   "cell_type": "code",
   "execution_count": 23,
   "metadata": {},
   "outputs": [
    {
     "name": "stdout",
     "output_type": "stream",
     "text": [
      "The rmse test score is 19.937172525294432.\n"
     ]
    }
   ],
   "source": [
    "ridge_preds = ridge_final.predict(X_test_sc)\n",
    "ridge_res = ridge_preds - y_test\n",
    "SS_res = sum(ridge_res**2)\n",
    "MSE = SS_res / len(ridge_res)\n",
    "RMSE = np.sqrt(MSE)\n",
    "print( f'The rmse test score is {RMSE}.')"
   ]
  },
  {
   "cell_type": "markdown",
   "metadata": {},
   "source": [
    "#### Lasso"
   ]
  },
  {
   "cell_type": "code",
   "execution_count": 28,
   "metadata": {},
   "outputs": [],
   "source": [
    "# Set up a list of Lasso alphas to check.\n",
    "l_alphas = np.logspace(-3, 0, 100)\n",
    "\n",
    "# Cross-validate over our list of Lasso alphas.\n",
    "lasso = LassoCV(alphas=l_alphas, cv=5, max_iter=5000)\n",
    "\n",
    "# Fit model using best ridge alpha!\n",
    "lasso_final = lasso.fit(X_train_sc, y_train)\n"
   ]
  },
  {
   "cell_type": "code",
   "execution_count": 29,
   "metadata": {},
   "outputs": [
    {
     "name": "stdout",
     "output_type": "stream",
     "text": [
      "0.1266794374979443\n",
      "0.13012291236870566\n"
     ]
    }
   ],
   "source": [
    "print(lasso_final.score(X_train_sc, y_train))\n",
    "print(lasso_final.score(X_test_sc, y_test))"
   ]
  },
  {
   "cell_type": "code",
   "execution_count": 30,
   "metadata": {},
   "outputs": [
    {
     "name": "stdout",
     "output_type": "stream",
     "text": [
      "The rmse test score is 19.943830780520372.\n"
     ]
    }
   ],
   "source": [
    "lasso_preds = lasso_final.predict(X_test_sc)\n",
    "lasso_res = lasso_preds - y_test\n",
    "SS_res = sum(lasso_res**2)\n",
    "MSE = SS_res / len(lasso_res)\n",
    "RMSE = np.sqrt(MSE)\n",
    "print( f'The rmse test score is {RMSE}.')"
   ]
  },
  {
   "cell_type": "markdown",
   "metadata": {},
   "source": [
    "#### Bagged Decision Tree"
   ]
  },
  {
   "cell_type": "code",
   "execution_count": 31,
   "metadata": {},
   "outputs": [],
   "source": [
    "bag_params = {\n",
    "    'max_features': [1,3,5],\n",
    "    'bootstrap': [True, False],\n",
    "    'max_samples': [1,5,10]\n",
    "}"
   ]
  },
  {
   "cell_type": "code",
   "execution_count": 32,
   "metadata": {},
   "outputs": [],
   "source": [
    "bag_gridsearch = GridSearchCV(BaggingRegressor(random_state = 42 ), \n",
    "                              bag_params, \n",
    "                              cv=5, \n",
    "                              verbose=1)"
   ]
  },
  {
   "cell_type": "code",
   "execution_count": 33,
   "metadata": {},
   "outputs": [
    {
     "name": "stdout",
     "output_type": "stream",
     "text": [
      "Fitting 5 folds for each of 18 candidates, totalling 90 fits\n"
     ]
    },
    {
     "name": "stderr",
     "output_type": "stream",
     "text": [
      "[Parallel(n_jobs=1)]: Using backend SequentialBackend with 1 concurrent workers.\n",
      "[Parallel(n_jobs=1)]: Done  90 out of  90 | elapsed:    1.3s finished\n"
     ]
    }
   ],
   "source": [
    "bag_gridsearch.fit(X_train, y_train);"
   ]
  },
  {
   "cell_type": "code",
   "execution_count": 34,
   "metadata": {},
   "outputs": [
    {
     "name": "stdout",
     "output_type": "stream",
     "text": [
      "-0.03332082232064315\n"
     ]
    },
    {
     "data": {
      "text/plain": [
       "-0.024087070019403134"
      ]
     },
     "execution_count": 34,
     "metadata": {},
     "output_type": "execute_result"
    }
   ],
   "source": [
    "bag_final = bag_gridsearch.best_estimator_\n",
    "print(bag_final.score(X_train, y_train))\n",
    "bag_final.score(X_test, y_test)"
   ]
  },
  {
   "cell_type": "code",
   "execution_count": 35,
   "metadata": {},
   "outputs": [
    {
     "name": "stdout",
     "output_type": "stream",
     "text": [
      "The rmse test score is 21.639542569521584.\n"
     ]
    }
   ],
   "source": [
    "bag_preds = bag_final.predict(X_test)\n",
    "bag_res = bag_preds - y_test\n",
    "SS_res = sum(bag_res**2)\n",
    "MSE = SS_res / len(bag_res)\n",
    "RMSE = np.sqrt(MSE)\n",
    "print( f'The rmse test score is {RMSE}.')"
   ]
  },
  {
   "cell_type": "markdown",
   "metadata": {},
   "source": [
    "#### Random Forest"
   ]
  },
  {
   "cell_type": "code",
   "execution_count": 36,
   "metadata": {},
   "outputs": [
    {
     "data": {
      "text/plain": [
       "RandomForestRegressor(bootstrap=True, criterion='mse', max_depth=None,\n",
       "                      max_features='auto', max_leaf_nodes=None,\n",
       "                      min_impurity_decrease=0.0, min_impurity_split=None,\n",
       "                      min_samples_leaf=1, min_samples_split=2,\n",
       "                      min_weight_fraction_leaf=0.0, n_estimators='warn',\n",
       "                      n_jobs=None, oob_score=False, random_state=None,\n",
       "                      verbose=0, warm_start=False)"
      ]
     },
     "execution_count": 36,
     "metadata": {},
     "output_type": "execute_result"
    }
   ],
   "source": [
    "RandomForestRegressor()"
   ]
  },
  {
   "cell_type": "code",
   "execution_count": 37,
   "metadata": {},
   "outputs": [],
   "source": [
    "forest_params = {\n",
    "    'max_depth': [5,10,15],\n",
    "    'min_samples_split': [50,100,1500],\n",
    "    'max_features': [1,5,10]\n",
    "}"
   ]
  },
  {
   "cell_type": "code",
   "execution_count": 38,
   "metadata": {},
   "outputs": [],
   "source": [
    "forest_gridsearch = GridSearchCV(RandomForestRegressor(random_state = 42), \n",
    "                              forest_params, \n",
    "                              cv=5, \n",
    "                              verbose=1)"
   ]
  },
  {
   "cell_type": "code",
   "execution_count": null,
   "metadata": {},
   "outputs": [],
   "source": [
    "forest_gridsearch.fit(X_train, y_train);\n",
    "\n",
    "forest_final = bag_gridsearch.best_estimator_\n",
    "print(forest_final.score(X_train, y_train))\n",
    "forest_final.score(X_test, y_test)"
   ]
  },
  {
   "cell_type": "code",
   "execution_count": 40,
   "metadata": {},
   "outputs": [
    {
     "name": "stdout",
     "output_type": "stream",
     "text": [
      "The rmse test score is 21.639542569521584.\n"
     ]
    }
   ],
   "source": [
    "forest_preds = forest_final.predict(X_test)\n",
    "forest_res = forest_preds - y_test\n",
    "SS_res = sum(forest_res**2)\n",
    "MSE = SS_res / len(forest_res)\n",
    "RMSE = np.sqrt(MSE)\n",
    "print( f'The rmse test score is {RMSE}.')"
   ]
  },
  {
   "cell_type": "markdown",
   "metadata": {},
   "source": [
    "# Final Model for Whole Dataframe"
   ]
  },
  {
   "cell_type": "code",
   "execution_count": 41,
   "metadata": {},
   "outputs": [
    {
     "name": "stderr",
     "output_type": "stream",
     "text": [
      "/Users/rosedennis/opt/anaconda3/lib/python3.7/site-packages/numpy/core/fromnumeric.py:2495: FutureWarning: Method .ptp is deprecated and will be removed in a future version. Use numpy.ptp instead.\n",
      "  return ptp(axis=axis, out=out, **kwargs)\n"
     ]
    }
   ],
   "source": [
    "X_train = sm.add_constant(X_train)\n",
    "final_model = sm.OLS(y_train, X_train).fit()"
   ]
  },
  {
   "cell_type": "code",
   "execution_count": 42,
   "metadata": {},
   "outputs": [
    {
     "data": {
      "text/html": [
       "<table class=\"simpletable\">\n",
       "<caption>OLS Regression Results</caption>\n",
       "<tr>\n",
       "  <th>Dep. Variable:</th>        <td>track_pop</td>    <th>  R-squared:         </th> <td>   0.127</td> \n",
       "</tr>\n",
       "<tr>\n",
       "  <th>Model:</th>                   <td>OLS</td>       <th>  Adj. R-squared:    </th> <td>   0.125</td> \n",
       "</tr>\n",
       "<tr>\n",
       "  <th>Method:</th>             <td>Least Squares</td>  <th>  F-statistic:       </th> <td>   71.85</td> \n",
       "</tr>\n",
       "<tr>\n",
       "  <th>Date:</th>             <td>Tue, 10 Mar 2020</td> <th>  Prob (F-statistic):</th> <td>5.74e-259</td>\n",
       "</tr>\n",
       "<tr>\n",
       "  <th>Time:</th>                 <td>14:48:53</td>     <th>  Log-Likelihood:    </th> <td> -41363.</td> \n",
       "</tr>\n",
       "<tr>\n",
       "  <th>No. Observations:</th>      <td>  9395</td>      <th>  AIC:               </th> <td>8.277e+04</td>\n",
       "</tr>\n",
       "<tr>\n",
       "  <th>Df Residuals:</th>          <td>  9375</td>      <th>  BIC:               </th> <td>8.291e+04</td>\n",
       "</tr>\n",
       "<tr>\n",
       "  <th>Df Model:</th>              <td>    19</td>      <th>                     </th>     <td> </td>    \n",
       "</tr>\n",
       "<tr>\n",
       "  <th>Covariance Type:</th>      <td>nonrobust</td>    <th>                     </th>     <td> </td>    \n",
       "</tr>\n",
       "</table>\n",
       "<table class=\"simpletable\">\n",
       "<tr>\n",
       "          <td></td>            <th>coef</th>     <th>std err</th>      <th>t</th>      <th>P>|t|</th>  <th>[0.025</th>    <th>0.975]</th>  \n",
       "</tr>\n",
       "<tr>\n",
       "  <th>const</th>            <td>   48.5928</td> <td>    3.850</td> <td>   12.622</td> <td> 0.000</td> <td>   41.046</td> <td>   56.139</td>\n",
       "</tr>\n",
       "<tr>\n",
       "  <th>featured_artist</th>  <td>    4.0349</td> <td>    0.496</td> <td>    8.129</td> <td> 0.000</td> <td>    3.062</td> <td>    5.008</td>\n",
       "</tr>\n",
       "<tr>\n",
       "  <th>danceability</th>     <td>   12.0320</td> <td>    1.761</td> <td>    6.834</td> <td> 0.000</td> <td>    8.581</td> <td>   15.483</td>\n",
       "</tr>\n",
       "<tr>\n",
       "  <th>energy</th>           <td>   -5.0423</td> <td>    1.922</td> <td>   -2.623</td> <td> 0.009</td> <td>   -8.810</td> <td>   -1.275</td>\n",
       "</tr>\n",
       "<tr>\n",
       "  <th>key</th>              <td>    0.0335</td> <td>    0.058</td> <td>    0.582</td> <td> 0.561</td> <td>   -0.079</td> <td>    0.146</td>\n",
       "</tr>\n",
       "<tr>\n",
       "  <th>loudness</th>         <td>    0.8097</td> <td>    0.101</td> <td>    7.991</td> <td> 0.000</td> <td>    0.611</td> <td>    1.008</td>\n",
       "</tr>\n",
       "<tr>\n",
       "  <th>mode</th>             <td>   -0.2896</td> <td>    0.458</td> <td>   -0.632</td> <td> 0.527</td> <td>   -1.188</td> <td>    0.609</td>\n",
       "</tr>\n",
       "<tr>\n",
       "  <th>speechiness</th>      <td>    7.1720</td> <td>    2.582</td> <td>    2.778</td> <td> 0.005</td> <td>    2.111</td> <td>   12.233</td>\n",
       "</tr>\n",
       "<tr>\n",
       "  <th>acousticness</th>     <td>   -0.9143</td> <td>    1.036</td> <td>   -0.882</td> <td> 0.378</td> <td>   -2.946</td> <td>    1.117</td>\n",
       "</tr>\n",
       "<tr>\n",
       "  <th>instrumentalness</th> <td>  -11.9163</td> <td>    1.181</td> <td>  -10.087</td> <td> 0.000</td> <td>  -14.232</td> <td>   -9.601</td>\n",
       "</tr>\n",
       "<tr>\n",
       "  <th>liveness</th>         <td>   -1.0183</td> <td>    1.513</td> <td>   -0.673</td> <td> 0.501</td> <td>   -3.983</td> <td>    1.947</td>\n",
       "</tr>\n",
       "<tr>\n",
       "  <th>valence</th>          <td>   -3.9807</td> <td>    1.042</td> <td>   -3.822</td> <td> 0.000</td> <td>   -6.023</td> <td>   -1.939</td>\n",
       "</tr>\n",
       "<tr>\n",
       "  <th>tempo</th>            <td>   -0.0018</td> <td>    0.008</td> <td>   -0.238</td> <td> 0.812</td> <td>   -0.017</td> <td>    0.013</td>\n",
       "</tr>\n",
       "<tr>\n",
       "  <th>duration_ms</th>      <td> 1.259e-06</td> <td>    4e-06</td> <td>    0.315</td> <td> 0.753</td> <td>-6.58e-06</td> <td>  9.1e-06</td>\n",
       "</tr>\n",
       "<tr>\n",
       "  <th>time_signature</th>   <td>   -0.2810</td> <td>    0.749</td> <td>   -0.375</td> <td> 0.708</td> <td>   -1.750</td> <td>    1.188</td>\n",
       "</tr>\n",
       "<tr>\n",
       "  <th>category_club</th>    <td>   -2.4146</td> <td>    0.843</td> <td>   -2.864</td> <td> 0.004</td> <td>   -4.067</td> <td>   -0.762</td>\n",
       "</tr>\n",
       "<tr>\n",
       "  <th>category_country</th> <td>    0.3729</td> <td>    0.709</td> <td>    0.526</td> <td> 0.599</td> <td>   -1.017</td> <td>    1.763</td>\n",
       "</tr>\n",
       "<tr>\n",
       "  <th>category_hits</th>    <td>   11.1593</td> <td>    0.802</td> <td>   13.913</td> <td> 0.000</td> <td>    9.587</td> <td>   12.732</td>\n",
       "</tr>\n",
       "<tr>\n",
       "  <th>category_pop</th>     <td>    8.8633</td> <td>    0.718</td> <td>   12.342</td> <td> 0.000</td> <td>    7.456</td> <td>   10.271</td>\n",
       "</tr>\n",
       "<tr>\n",
       "  <th>category_rap</th>     <td>    3.7228</td> <td>    0.855</td> <td>    4.353</td> <td> 0.000</td> <td>    2.046</td> <td>    5.399</td>\n",
       "</tr>\n",
       "</table>\n",
       "<table class=\"simpletable\">\n",
       "<tr>\n",
       "  <th>Omnibus:</th>       <td>766.534</td> <th>  Durbin-Watson:     </th> <td>   2.009</td> \n",
       "</tr>\n",
       "<tr>\n",
       "  <th>Prob(Omnibus):</th> <td> 0.000</td>  <th>  Jarque-Bera (JB):  </th> <td> 968.190</td> \n",
       "</tr>\n",
       "<tr>\n",
       "  <th>Skew:</th>          <td>-0.784</td>  <th>  Prob(JB):          </th> <td>5.76e-211</td>\n",
       "</tr>\n",
       "<tr>\n",
       "  <th>Kurtosis:</th>      <td> 3.132</td>  <th>  Cond. No.          </th> <td>4.31e+06</td> \n",
       "</tr>\n",
       "</table><br/><br/>Warnings:<br/>[1] Standard Errors assume that the covariance matrix of the errors is correctly specified.<br/>[2] The condition number is large, 4.31e+06. This might indicate that there are<br/>strong multicollinearity or other numerical problems."
      ],
      "text/plain": [
       "<class 'statsmodels.iolib.summary.Summary'>\n",
       "\"\"\"\n",
       "                            OLS Regression Results                            \n",
       "==============================================================================\n",
       "Dep. Variable:              track_pop   R-squared:                       0.127\n",
       "Model:                            OLS   Adj. R-squared:                  0.125\n",
       "Method:                 Least Squares   F-statistic:                     71.85\n",
       "Date:                Tue, 10 Mar 2020   Prob (F-statistic):          5.74e-259\n",
       "Time:                        14:48:53   Log-Likelihood:                -41363.\n",
       "No. Observations:                9395   AIC:                         8.277e+04\n",
       "Df Residuals:                    9375   BIC:                         8.291e+04\n",
       "Df Model:                          19                                         \n",
       "Covariance Type:            nonrobust                                         \n",
       "====================================================================================\n",
       "                       coef    std err          t      P>|t|      [0.025      0.975]\n",
       "------------------------------------------------------------------------------------\n",
       "const               48.5928      3.850     12.622      0.000      41.046      56.139\n",
       "featured_artist      4.0349      0.496      8.129      0.000       3.062       5.008\n",
       "danceability        12.0320      1.761      6.834      0.000       8.581      15.483\n",
       "energy              -5.0423      1.922     -2.623      0.009      -8.810      -1.275\n",
       "key                  0.0335      0.058      0.582      0.561      -0.079       0.146\n",
       "loudness             0.8097      0.101      7.991      0.000       0.611       1.008\n",
       "mode                -0.2896      0.458     -0.632      0.527      -1.188       0.609\n",
       "speechiness          7.1720      2.582      2.778      0.005       2.111      12.233\n",
       "acousticness        -0.9143      1.036     -0.882      0.378      -2.946       1.117\n",
       "instrumentalness   -11.9163      1.181    -10.087      0.000     -14.232      -9.601\n",
       "liveness            -1.0183      1.513     -0.673      0.501      -3.983       1.947\n",
       "valence             -3.9807      1.042     -3.822      0.000      -6.023      -1.939\n",
       "tempo               -0.0018      0.008     -0.238      0.812      -0.017       0.013\n",
       "duration_ms       1.259e-06      4e-06      0.315      0.753   -6.58e-06     9.1e-06\n",
       "time_signature      -0.2810      0.749     -0.375      0.708      -1.750       1.188\n",
       "category_club       -2.4146      0.843     -2.864      0.004      -4.067      -0.762\n",
       "category_country     0.3729      0.709      0.526      0.599      -1.017       1.763\n",
       "category_hits       11.1593      0.802     13.913      0.000       9.587      12.732\n",
       "category_pop         8.8633      0.718     12.342      0.000       7.456      10.271\n",
       "category_rap         3.7228      0.855      4.353      0.000       2.046       5.399\n",
       "==============================================================================\n",
       "Omnibus:                      766.534   Durbin-Watson:                   2.009\n",
       "Prob(Omnibus):                  0.000   Jarque-Bera (JB):              968.190\n",
       "Skew:                          -0.784   Prob(JB):                    5.76e-211\n",
       "Kurtosis:                       3.132   Cond. No.                     4.31e+06\n",
       "==============================================================================\n",
       "\n",
       "Warnings:\n",
       "[1] Standard Errors assume that the covariance matrix of the errors is correctly specified.\n",
       "[2] The condition number is large, 4.31e+06. This might indicate that there are\n",
       "strong multicollinearity or other numerical problems.\n",
       "\"\"\""
      ]
     },
     "execution_count": 42,
     "metadata": {},
     "output_type": "execute_result"
    }
   ],
   "source": [
    "final_model.summary()"
   ]
  },
  {
   "cell_type": "code",
   "execution_count": 43,
   "metadata": {},
   "outputs": [
    {
     "data": {
      "image/png": "[encoded data removed]",
      "text/plain": [
       "<Figure size 432x288 with 1 Axes>"
      ]
     },
     "metadata": {
      "needs_background": "light"
     },
     "output_type": "display_data"
    }
   ],
   "source": [
    "#distribution of residuals\n",
    "X_test = sm.add_constant(X_test)\n",
    "\n",
    "final_resids = y_test - final_model.predict(X_test)\n",
    "plt.hist(final_resids);\n",
    "plt.title('Distribution of Residuals')\n",
    "plt.savefig('../../Images_Plots/resid_hist.png')"
   ]
  },
  {
   "cell_type": "code",
   "execution_count": 44,
   "metadata": {},
   "outputs": [
    {
     "data": {
      "text/plain": [
       "Text(0.5, 1.0, 'QQ Norm Plot')"
      ]
     },
     "execution_count": 44,
     "metadata": {},
     "output_type": "execute_result"
    },
    {
     "data": {
      "image/png": "[encoded data removed]",
      "text/plain": [
       "<Figure size 432x288 with 1 Axes>"
      ]
     },
     "metadata": {
      "needs_background": "light"
     },
     "output_type": "display_data"
    }
   ],
   "source": [
    "#qq norm plot to check normality of errors\n",
    "sm.qqplot(final_resids ,stats.t, fit =True , line = '45');\n",
    "plt.title('QQ Norm Plot')"
   ]
  }
 ],
 "metadata": {
  "kernelspec": {
   "display_name": "Python [conda env:root] *",
   "language": "python",
   "name": "conda-root-py"
  },
  "language_info": {
   "codemirror_mode": {
    "name": "ipython",
    "version": 3
   },
   "file_extension": ".py",
   "mimetype": "text/x-python",
   "name": "python",
   "nbconvert_exporter": "python",
   "pygments_lexer": "ipython3",
   "version": "3.7.4"
  }
 },
 "nbformat": 4,
 "nbformat_minor": 2
}
